{
  "nbformat": 4,
  "nbformat_minor": 0,
  "metadata": {
    "colab": {
      "name": "data_science_ch10.ipynb",
      "provenance": [],
      "authorship_tag": "ABX9TyM3umlu2nZdG3X4MMxr0xFL",
      "include_colab_link": true
    },
    "kernelspec": {
      "name": "python3",
      "display_name": "Python 3"
    },
    "language_info": {
      "name": "python"
    }
  },
  "cells": [
    {
      "cell_type": "markdown",
      "metadata": {
        "id": "view-in-github",
        "colab_type": "text"
      },
      "source": [
        "<a href=\"https://colab.research.google.com/github/Hero0963/data_science/blob/main/data_science_ch10.ipynb\" target=\"_parent\"><img src=\"https://colab.research.google.com/assets/colab-badge.svg\" alt=\"Open In Colab\"/></a>"
      ]
    },
    {
      "cell_type": "code",
      "execution_count": null,
      "metadata": {
        "colab": {
          "base_uri": "https://localhost:8080/"
        },
        "id": "9S5-8cC99vzZ",
        "outputId": "a4af9140-ee36-4f0f-9c6a-0c39add4fb34"
      },
      "outputs": [
        {
          "output_type": "stream",
          "name": "stdout",
          "text": [
            "Drive already mounted at /content/MyGoogleDrive; to attempt to forcibly remount, call drive.mount(\"/content/MyGoogleDrive\", force_remount=True).\n",
            "<class 'pandas.core.frame.DataFrame'>\n",
            "RangeIndex: 338 entries, 0 to 337\n",
            "Data columns (total 7 columns):\n",
            " #   Column            Non-Null Count  Dtype  \n",
            "---  ------            --------------  -----  \n",
            " 0   ID                338 non-null    int64  \n",
            " 1   Length_cm         315 non-null    float64\n",
            " 2   Weight_g          329 non-null    float64\n",
            " 3   Species           338 non-null    object \n",
            " 4   Scientific Name   338 non-null    object \n",
            " 5   Inspector         338 non-null    object \n",
            " 6   Measurement Date  338 non-null    object \n",
            "dtypes: float64(2), int64(1), object(4)\n",
            "memory usage: 18.6+ KB\n"
          ]
        }
      ],
      "source": [
        "# exercise_01\n",
        "\n",
        "# read penguin data\n",
        "from google.colab import drive\n",
        "drive.mount('/content/MyGoogleDrive')\n",
        "import pandas as pd\n",
        "df=pd.read_csv('/content/MyGoogleDrive/My Drive/Colab Notebooks/Python-for-Titanic/Ch10/penguin.csv')\n",
        "df.info()"
      ]
    },
    {
      "cell_type": "code",
      "source": [
        "df=df.drop_duplicates()\n",
        "df.info()"
      ],
      "metadata": {
        "colab": {
          "base_uri": "https://localhost:8080/"
        },
        "id": "57r8loub-bA8",
        "outputId": "833223ee-a660-44c2-f494-b6d93c506275"
      },
      "execution_count": null,
      "outputs": [
        {
          "output_type": "stream",
          "name": "stdout",
          "text": [
            "<class 'pandas.core.frame.DataFrame'>\n",
            "Int64Index: 332 entries, 0 to 337\n",
            "Data columns (total 7 columns):\n",
            " #   Column            Non-Null Count  Dtype  \n",
            "---  ------            --------------  -----  \n",
            " 0   ID                332 non-null    int64  \n",
            " 1   Length_cm         309 non-null    float64\n",
            " 2   Weight_g          323 non-null    float64\n",
            " 3   Species           332 non-null    object \n",
            " 4   Scientific Name   332 non-null    object \n",
            " 5   Inspector         332 non-null    object \n",
            " 6   Measurement Date  332 non-null    object \n",
            "dtypes: float64(2), int64(1), object(4)\n",
            "memory usage: 20.8+ KB\n"
          ]
        }
      ]
    },
    {
      "cell_type": "code",
      "source": [
        "df=df.reset_index(drop=True)\n",
        "df"
      ],
      "metadata": {
        "colab": {
          "base_uri": "https://localhost:8080/",
          "height": 424
        },
        "id": "DIAWHQzC-cy0",
        "outputId": "5c206225-635e-424c-9add-ad6684277bdf"
      },
      "execution_count": null,
      "outputs": [
        {
          "output_type": "execute_result",
          "data": {
            "text/plain": [
              "      ID  Length_cm  Weight_g            Species         Scientific Name  \\\n",
              "0      1       45.0    2847.0  Galapagos penguin   Spheniscus mendiculus   \n",
              "1      2       53.0    3625.0  Chinstrap penguin  Pygoscelis antarcticus   \n",
              "2      3       83.0    3600.0  Chinstrap penguin  Pygoscelis antarcticus   \n",
              "3      4       72.0    3282.0  Chinstrap penguin  Pygoscelis antarcticus   \n",
              "4      5        NaN    5630.0     Gentoo penguin        Pygoscelis papua   \n",
              "..   ...        ...       ...                ...                     ...   \n",
              "327  334       64.0    3752.0  Chinstrap penguin  Pygoscelis antarcticus   \n",
              "328  335       45.0    2300.0  Galapagos penguin   Spheniscus mendiculus   \n",
              "329  336       53.0     897.0     Little penguin         Eudyptula minor   \n",
              "330  337       37.0     812.0     Little penguin         Eudyptula minor   \n",
              "331  338       74.0    6013.0     Gentoo penguin        Pygoscelis papua   \n",
              "\n",
              "       Inspector Measurement Date  \n",
              "0          Janet        1990/9/19  \n",
              "1         Elbert        1991/6/21  \n",
              "2          Janet        1991/3/17  \n",
              "3    Antisthenes        1991/3/25  \n",
              "4         Alisha        1990/9/21  \n",
              "..           ...              ...  \n",
              "327  Charpentier         1991/3/8  \n",
              "328  Antisthenes        1991/3/11  \n",
              "329        Janet        1990/9/17  \n",
              "330  Antisthenes        1990/9/22  \n",
              "331  Charpentier        1990/9/11  \n",
              "\n",
              "[332 rows x 7 columns]"
            ],
            "text/html": [
              "\n",
              "  <div id=\"df-253594d2-2c0c-4799-bec3-d46eaf9e0d2f\">\n",
              "    <div class=\"colab-df-container\">\n",
              "      <div>\n",
              "<style scoped>\n",
              "    .dataframe tbody tr th:only-of-type {\n",
              "        vertical-align: middle;\n",
              "    }\n",
              "\n",
              "    .dataframe tbody tr th {\n",
              "        vertical-align: top;\n",
              "    }\n",
              "\n",
              "    .dataframe thead th {\n",
              "        text-align: right;\n",
              "    }\n",
              "</style>\n",
              "<table border=\"1\" class=\"dataframe\">\n",
              "  <thead>\n",
              "    <tr style=\"text-align: right;\">\n",
              "      <th></th>\n",
              "      <th>ID</th>\n",
              "      <th>Length_cm</th>\n",
              "      <th>Weight_g</th>\n",
              "      <th>Species</th>\n",
              "      <th>Scientific Name</th>\n",
              "      <th>Inspector</th>\n",
              "      <th>Measurement Date</th>\n",
              "    </tr>\n",
              "  </thead>\n",
              "  <tbody>\n",
              "    <tr>\n",
              "      <th>0</th>\n",
              "      <td>1</td>\n",
              "      <td>45.0</td>\n",
              "      <td>2847.0</td>\n",
              "      <td>Galapagos penguin</td>\n",
              "      <td>Spheniscus mendiculus</td>\n",
              "      <td>Janet</td>\n",
              "      <td>1990/9/19</td>\n",
              "    </tr>\n",
              "    <tr>\n",
              "      <th>1</th>\n",
              "      <td>2</td>\n",
              "      <td>53.0</td>\n",
              "      <td>3625.0</td>\n",
              "      <td>Chinstrap penguin</td>\n",
              "      <td>Pygoscelis antarcticus</td>\n",
              "      <td>Elbert</td>\n",
              "      <td>1991/6/21</td>\n",
              "    </tr>\n",
              "    <tr>\n",
              "      <th>2</th>\n",
              "      <td>3</td>\n",
              "      <td>83.0</td>\n",
              "      <td>3600.0</td>\n",
              "      <td>Chinstrap penguin</td>\n",
              "      <td>Pygoscelis antarcticus</td>\n",
              "      <td>Janet</td>\n",
              "      <td>1991/3/17</td>\n",
              "    </tr>\n",
              "    <tr>\n",
              "      <th>3</th>\n",
              "      <td>4</td>\n",
              "      <td>72.0</td>\n",
              "      <td>3282.0</td>\n",
              "      <td>Chinstrap penguin</td>\n",
              "      <td>Pygoscelis antarcticus</td>\n",
              "      <td>Antisthenes</td>\n",
              "      <td>1991/3/25</td>\n",
              "    </tr>\n",
              "    <tr>\n",
              "      <th>4</th>\n",
              "      <td>5</td>\n",
              "      <td>NaN</td>\n",
              "      <td>5630.0</td>\n",
              "      <td>Gentoo penguin</td>\n",
              "      <td>Pygoscelis papua</td>\n",
              "      <td>Alisha</td>\n",
              "      <td>1990/9/21</td>\n",
              "    </tr>\n",
              "    <tr>\n",
              "      <th>...</th>\n",
              "      <td>...</td>\n",
              "      <td>...</td>\n",
              "      <td>...</td>\n",
              "      <td>...</td>\n",
              "      <td>...</td>\n",
              "      <td>...</td>\n",
              "      <td>...</td>\n",
              "    </tr>\n",
              "    <tr>\n",
              "      <th>327</th>\n",
              "      <td>334</td>\n",
              "      <td>64.0</td>\n",
              "      <td>3752.0</td>\n",
              "      <td>Chinstrap penguin</td>\n",
              "      <td>Pygoscelis antarcticus</td>\n",
              "      <td>Charpentier</td>\n",
              "      <td>1991/3/8</td>\n",
              "    </tr>\n",
              "    <tr>\n",
              "      <th>328</th>\n",
              "      <td>335</td>\n",
              "      <td>45.0</td>\n",
              "      <td>2300.0</td>\n",
              "      <td>Galapagos penguin</td>\n",
              "      <td>Spheniscus mendiculus</td>\n",
              "      <td>Antisthenes</td>\n",
              "      <td>1991/3/11</td>\n",
              "    </tr>\n",
              "    <tr>\n",
              "      <th>329</th>\n",
              "      <td>336</td>\n",
              "      <td>53.0</td>\n",
              "      <td>897.0</td>\n",
              "      <td>Little penguin</td>\n",
              "      <td>Eudyptula minor</td>\n",
              "      <td>Janet</td>\n",
              "      <td>1990/9/17</td>\n",
              "    </tr>\n",
              "    <tr>\n",
              "      <th>330</th>\n",
              "      <td>337</td>\n",
              "      <td>37.0</td>\n",
              "      <td>812.0</td>\n",
              "      <td>Little penguin</td>\n",
              "      <td>Eudyptula minor</td>\n",
              "      <td>Antisthenes</td>\n",
              "      <td>1990/9/22</td>\n",
              "    </tr>\n",
              "    <tr>\n",
              "      <th>331</th>\n",
              "      <td>338</td>\n",
              "      <td>74.0</td>\n",
              "      <td>6013.0</td>\n",
              "      <td>Gentoo penguin</td>\n",
              "      <td>Pygoscelis papua</td>\n",
              "      <td>Charpentier</td>\n",
              "      <td>1990/9/11</td>\n",
              "    </tr>\n",
              "  </tbody>\n",
              "</table>\n",
              "<p>332 rows × 7 columns</p>\n",
              "</div>\n",
              "      <button class=\"colab-df-convert\" onclick=\"convertToInteractive('df-253594d2-2c0c-4799-bec3-d46eaf9e0d2f')\"\n",
              "              title=\"Convert this dataframe to an interactive table.\"\n",
              "              style=\"display:none;\">\n",
              "        \n",
              "  <svg xmlns=\"http://www.w3.org/2000/svg\" height=\"24px\"viewBox=\"0 0 24 24\"\n",
              "       width=\"24px\">\n",
              "    <path d=\"M0 0h24v24H0V0z\" fill=\"none\"/>\n",
              "    <path d=\"M18.56 5.44l.94 2.06.94-2.06 2.06-.94-2.06-.94-.94-2.06-.94 2.06-2.06.94zm-11 1L8.5 8.5l.94-2.06 2.06-.94-2.06-.94L8.5 2.5l-.94 2.06-2.06.94zm10 10l.94 2.06.94-2.06 2.06-.94-2.06-.94-.94-2.06-.94 2.06-2.06.94z\"/><path d=\"M17.41 7.96l-1.37-1.37c-.4-.4-.92-.59-1.43-.59-.52 0-1.04.2-1.43.59L10.3 9.45l-7.72 7.72c-.78.78-.78 2.05 0 2.83L4 21.41c.39.39.9.59 1.41.59.51 0 1.02-.2 1.41-.59l7.78-7.78 2.81-2.81c.8-.78.8-2.07 0-2.86zM5.41 20L4 18.59l7.72-7.72 1.47 1.35L5.41 20z\"/>\n",
              "  </svg>\n",
              "      </button>\n",
              "      \n",
              "  <style>\n",
              "    .colab-df-container {\n",
              "      display:flex;\n",
              "      flex-wrap:wrap;\n",
              "      gap: 12px;\n",
              "    }\n",
              "\n",
              "    .colab-df-convert {\n",
              "      background-color: #E8F0FE;\n",
              "      border: none;\n",
              "      border-radius: 50%;\n",
              "      cursor: pointer;\n",
              "      display: none;\n",
              "      fill: #1967D2;\n",
              "      height: 32px;\n",
              "      padding: 0 0 0 0;\n",
              "      width: 32px;\n",
              "    }\n",
              "\n",
              "    .colab-df-convert:hover {\n",
              "      background-color: #E2EBFA;\n",
              "      box-shadow: 0px 1px 2px rgba(60, 64, 67, 0.3), 0px 1px 3px 1px rgba(60, 64, 67, 0.15);\n",
              "      fill: #174EA6;\n",
              "    }\n",
              "\n",
              "    [theme=dark] .colab-df-convert {\n",
              "      background-color: #3B4455;\n",
              "      fill: #D2E3FC;\n",
              "    }\n",
              "\n",
              "    [theme=dark] .colab-df-convert:hover {\n",
              "      background-color: #434B5C;\n",
              "      box-shadow: 0px 1px 3px 1px rgba(0, 0, 0, 0.15);\n",
              "      filter: drop-shadow(0px 1px 2px rgba(0, 0, 0, 0.3));\n",
              "      fill: #FFFFFF;\n",
              "    }\n",
              "  </style>\n",
              "\n",
              "      <script>\n",
              "        const buttonEl =\n",
              "          document.querySelector('#df-253594d2-2c0c-4799-bec3-d46eaf9e0d2f button.colab-df-convert');\n",
              "        buttonEl.style.display =\n",
              "          google.colab.kernel.accessAllowed ? 'block' : 'none';\n",
              "\n",
              "        async function convertToInteractive(key) {\n",
              "          const element = document.querySelector('#df-253594d2-2c0c-4799-bec3-d46eaf9e0d2f');\n",
              "          const dataTable =\n",
              "            await google.colab.kernel.invokeFunction('convertToInteractive',\n",
              "                                                     [key], {});\n",
              "          if (!dataTable) return;\n",
              "\n",
              "          const docLinkHtml = 'Like what you see? Visit the ' +\n",
              "            '<a target=\"_blank\" href=https://colab.research.google.com/notebooks/data_table.ipynb>data table notebook</a>'\n",
              "            + ' to learn more about interactive tables.';\n",
              "          element.innerHTML = '';\n",
              "          dataTable['output_type'] = 'display_data';\n",
              "          await google.colab.output.renderOutput(dataTable, element);\n",
              "          const docLink = document.createElement('div');\n",
              "          docLink.innerHTML = docLinkHtml;\n",
              "          element.appendChild(docLink);\n",
              "        }\n",
              "      </script>\n",
              "    </div>\n",
              "  </div>\n",
              "  "
            ]
          },
          "metadata": {},
          "execution_count": 7
        }
      ]
    },
    {
      "cell_type": "code",
      "source": [
        "species_list=df['Species'].unique().tolist()\n",
        "\n",
        "for species in species_list:\n",
        "    filter=df['Species']==species\n",
        "    m_l=(df[filter]['Length_cm'].mean())\n",
        "    m_w=(df[filter]['Weight_g'].mean())\n",
        "    df.loc[filter,'Length_cm']=df.loc[filter,'Length_cm'].fillna(m_l)\n",
        "    df.loc[filter,'Weight_g']=df.loc[filter,'Weight_g'].fillna(m_w)\n",
        "  \n",
        "\n",
        "df.info()\n",
        "df"
      ],
      "metadata": {
        "colab": {
          "base_uri": "https://localhost:8080/",
          "height": 667
        },
        "id": "h4aeP3mb-en5",
        "outputId": "c6e675c7-d5e6-49f6-ecaf-62d93bce7183"
      },
      "execution_count": null,
      "outputs": [
        {
          "output_type": "stream",
          "name": "stdout",
          "text": [
            "<class 'pandas.core.frame.DataFrame'>\n",
            "RangeIndex: 332 entries, 0 to 331\n",
            "Data columns (total 7 columns):\n",
            " #   Column            Non-Null Count  Dtype  \n",
            "---  ------            --------------  -----  \n",
            " 0   ID                332 non-null    int64  \n",
            " 1   Length_cm         332 non-null    float64\n",
            " 2   Weight_g          332 non-null    float64\n",
            " 3   Species           332 non-null    object \n",
            " 4   Scientific Name   332 non-null    object \n",
            " 5   Inspector         332 non-null    object \n",
            " 6   Measurement Date  332 non-null    object \n",
            "dtypes: float64(2), int64(1), object(4)\n",
            "memory usage: 18.3+ KB\n"
          ]
        },
        {
          "output_type": "execute_result",
          "data": {
            "text/plain": [
              "      ID  Length_cm  Weight_g            Species         Scientific Name  \\\n",
              "0      1  45.000000    2847.0  Galapagos penguin   Spheniscus mendiculus   \n",
              "1      2  53.000000    3625.0  Chinstrap penguin  Pygoscelis antarcticus   \n",
              "2      3  83.000000    3600.0  Chinstrap penguin  Pygoscelis antarcticus   \n",
              "3      4  72.000000    3282.0  Chinstrap penguin  Pygoscelis antarcticus   \n",
              "4      5  87.090909    5630.0     Gentoo penguin        Pygoscelis papua   \n",
              "..   ...        ...       ...                ...                     ...   \n",
              "327  334  64.000000    3752.0  Chinstrap penguin  Pygoscelis antarcticus   \n",
              "328  335  45.000000    2300.0  Galapagos penguin   Spheniscus mendiculus   \n",
              "329  336  53.000000     897.0     Little penguin         Eudyptula minor   \n",
              "330  337  37.000000     812.0     Little penguin         Eudyptula minor   \n",
              "331  338  74.000000    6013.0     Gentoo penguin        Pygoscelis papua   \n",
              "\n",
              "       Inspector Measurement Date  \n",
              "0          Janet        1990/9/19  \n",
              "1         Elbert        1991/6/21  \n",
              "2          Janet        1991/3/17  \n",
              "3    Antisthenes        1991/3/25  \n",
              "4         Alisha        1990/9/21  \n",
              "..           ...              ...  \n",
              "327  Charpentier         1991/3/8  \n",
              "328  Antisthenes        1991/3/11  \n",
              "329        Janet        1990/9/17  \n",
              "330  Antisthenes        1990/9/22  \n",
              "331  Charpentier        1990/9/11  \n",
              "\n",
              "[332 rows x 7 columns]"
            ],
            "text/html": [
              "\n",
              "  <div id=\"df-00348514-5bec-4898-b07c-087551069b72\">\n",
              "    <div class=\"colab-df-container\">\n",
              "      <div>\n",
              "<style scoped>\n",
              "    .dataframe tbody tr th:only-of-type {\n",
              "        vertical-align: middle;\n",
              "    }\n",
              "\n",
              "    .dataframe tbody tr th {\n",
              "        vertical-align: top;\n",
              "    }\n",
              "\n",
              "    .dataframe thead th {\n",
              "        text-align: right;\n",
              "    }\n",
              "</style>\n",
              "<table border=\"1\" class=\"dataframe\">\n",
              "  <thead>\n",
              "    <tr style=\"text-align: right;\">\n",
              "      <th></th>\n",
              "      <th>ID</th>\n",
              "      <th>Length_cm</th>\n",
              "      <th>Weight_g</th>\n",
              "      <th>Species</th>\n",
              "      <th>Scientific Name</th>\n",
              "      <th>Inspector</th>\n",
              "      <th>Measurement Date</th>\n",
              "    </tr>\n",
              "  </thead>\n",
              "  <tbody>\n",
              "    <tr>\n",
              "      <th>0</th>\n",
              "      <td>1</td>\n",
              "      <td>45.000000</td>\n",
              "      <td>2847.0</td>\n",
              "      <td>Galapagos penguin</td>\n",
              "      <td>Spheniscus mendiculus</td>\n",
              "      <td>Janet</td>\n",
              "      <td>1990/9/19</td>\n",
              "    </tr>\n",
              "    <tr>\n",
              "      <th>1</th>\n",
              "      <td>2</td>\n",
              "      <td>53.000000</td>\n",
              "      <td>3625.0</td>\n",
              "      <td>Chinstrap penguin</td>\n",
              "      <td>Pygoscelis antarcticus</td>\n",
              "      <td>Elbert</td>\n",
              "      <td>1991/6/21</td>\n",
              "    </tr>\n",
              "    <tr>\n",
              "      <th>2</th>\n",
              "      <td>3</td>\n",
              "      <td>83.000000</td>\n",
              "      <td>3600.0</td>\n",
              "      <td>Chinstrap penguin</td>\n",
              "      <td>Pygoscelis antarcticus</td>\n",
              "      <td>Janet</td>\n",
              "      <td>1991/3/17</td>\n",
              "    </tr>\n",
              "    <tr>\n",
              "      <th>3</th>\n",
              "      <td>4</td>\n",
              "      <td>72.000000</td>\n",
              "      <td>3282.0</td>\n",
              "      <td>Chinstrap penguin</td>\n",
              "      <td>Pygoscelis antarcticus</td>\n",
              "      <td>Antisthenes</td>\n",
              "      <td>1991/3/25</td>\n",
              "    </tr>\n",
              "    <tr>\n",
              "      <th>4</th>\n",
              "      <td>5</td>\n",
              "      <td>87.090909</td>\n",
              "      <td>5630.0</td>\n",
              "      <td>Gentoo penguin</td>\n",
              "      <td>Pygoscelis papua</td>\n",
              "      <td>Alisha</td>\n",
              "      <td>1990/9/21</td>\n",
              "    </tr>\n",
              "    <tr>\n",
              "      <th>...</th>\n",
              "      <td>...</td>\n",
              "      <td>...</td>\n",
              "      <td>...</td>\n",
              "      <td>...</td>\n",
              "      <td>...</td>\n",
              "      <td>...</td>\n",
              "      <td>...</td>\n",
              "    </tr>\n",
              "    <tr>\n",
              "      <th>327</th>\n",
              "      <td>334</td>\n",
              "      <td>64.000000</td>\n",
              "      <td>3752.0</td>\n",
              "      <td>Chinstrap penguin</td>\n",
              "      <td>Pygoscelis antarcticus</td>\n",
              "      <td>Charpentier</td>\n",
              "      <td>1991/3/8</td>\n",
              "    </tr>\n",
              "    <tr>\n",
              "      <th>328</th>\n",
              "      <td>335</td>\n",
              "      <td>45.000000</td>\n",
              "      <td>2300.0</td>\n",
              "      <td>Galapagos penguin</td>\n",
              "      <td>Spheniscus mendiculus</td>\n",
              "      <td>Antisthenes</td>\n",
              "      <td>1991/3/11</td>\n",
              "    </tr>\n",
              "    <tr>\n",
              "      <th>329</th>\n",
              "      <td>336</td>\n",
              "      <td>53.000000</td>\n",
              "      <td>897.0</td>\n",
              "      <td>Little penguin</td>\n",
              "      <td>Eudyptula minor</td>\n",
              "      <td>Janet</td>\n",
              "      <td>1990/9/17</td>\n",
              "    </tr>\n",
              "    <tr>\n",
              "      <th>330</th>\n",
              "      <td>337</td>\n",
              "      <td>37.000000</td>\n",
              "      <td>812.0</td>\n",
              "      <td>Little penguin</td>\n",
              "      <td>Eudyptula minor</td>\n",
              "      <td>Antisthenes</td>\n",
              "      <td>1990/9/22</td>\n",
              "    </tr>\n",
              "    <tr>\n",
              "      <th>331</th>\n",
              "      <td>338</td>\n",
              "      <td>74.000000</td>\n",
              "      <td>6013.0</td>\n",
              "      <td>Gentoo penguin</td>\n",
              "      <td>Pygoscelis papua</td>\n",
              "      <td>Charpentier</td>\n",
              "      <td>1990/9/11</td>\n",
              "    </tr>\n",
              "  </tbody>\n",
              "</table>\n",
              "<p>332 rows × 7 columns</p>\n",
              "</div>\n",
              "      <button class=\"colab-df-convert\" onclick=\"convertToInteractive('df-00348514-5bec-4898-b07c-087551069b72')\"\n",
              "              title=\"Convert this dataframe to an interactive table.\"\n",
              "              style=\"display:none;\">\n",
              "        \n",
              "  <svg xmlns=\"http://www.w3.org/2000/svg\" height=\"24px\"viewBox=\"0 0 24 24\"\n",
              "       width=\"24px\">\n",
              "    <path d=\"M0 0h24v24H0V0z\" fill=\"none\"/>\n",
              "    <path d=\"M18.56 5.44l.94 2.06.94-2.06 2.06-.94-2.06-.94-.94-2.06-.94 2.06-2.06.94zm-11 1L8.5 8.5l.94-2.06 2.06-.94-2.06-.94L8.5 2.5l-.94 2.06-2.06.94zm10 10l.94 2.06.94-2.06 2.06-.94-2.06-.94-.94-2.06-.94 2.06-2.06.94z\"/><path d=\"M17.41 7.96l-1.37-1.37c-.4-.4-.92-.59-1.43-.59-.52 0-1.04.2-1.43.59L10.3 9.45l-7.72 7.72c-.78.78-.78 2.05 0 2.83L4 21.41c.39.39.9.59 1.41.59.51 0 1.02-.2 1.41-.59l7.78-7.78 2.81-2.81c.8-.78.8-2.07 0-2.86zM5.41 20L4 18.59l7.72-7.72 1.47 1.35L5.41 20z\"/>\n",
              "  </svg>\n",
              "      </button>\n",
              "      \n",
              "  <style>\n",
              "    .colab-df-container {\n",
              "      display:flex;\n",
              "      flex-wrap:wrap;\n",
              "      gap: 12px;\n",
              "    }\n",
              "\n",
              "    .colab-df-convert {\n",
              "      background-color: #E8F0FE;\n",
              "      border: none;\n",
              "      border-radius: 50%;\n",
              "      cursor: pointer;\n",
              "      display: none;\n",
              "      fill: #1967D2;\n",
              "      height: 32px;\n",
              "      padding: 0 0 0 0;\n",
              "      width: 32px;\n",
              "    }\n",
              "\n",
              "    .colab-df-convert:hover {\n",
              "      background-color: #E2EBFA;\n",
              "      box-shadow: 0px 1px 2px rgba(60, 64, 67, 0.3), 0px 1px 3px 1px rgba(60, 64, 67, 0.15);\n",
              "      fill: #174EA6;\n",
              "    }\n",
              "\n",
              "    [theme=dark] .colab-df-convert {\n",
              "      background-color: #3B4455;\n",
              "      fill: #D2E3FC;\n",
              "    }\n",
              "\n",
              "    [theme=dark] .colab-df-convert:hover {\n",
              "      background-color: #434B5C;\n",
              "      box-shadow: 0px 1px 3px 1px rgba(0, 0, 0, 0.15);\n",
              "      filter: drop-shadow(0px 1px 2px rgba(0, 0, 0, 0.3));\n",
              "      fill: #FFFFFF;\n",
              "    }\n",
              "  </style>\n",
              "\n",
              "      <script>\n",
              "        const buttonEl =\n",
              "          document.querySelector('#df-00348514-5bec-4898-b07c-087551069b72 button.colab-df-convert');\n",
              "        buttonEl.style.display =\n",
              "          google.colab.kernel.accessAllowed ? 'block' : 'none';\n",
              "\n",
              "        async function convertToInteractive(key) {\n",
              "          const element = document.querySelector('#df-00348514-5bec-4898-b07c-087551069b72');\n",
              "          const dataTable =\n",
              "            await google.colab.kernel.invokeFunction('convertToInteractive',\n",
              "                                                     [key], {});\n",
              "          if (!dataTable) return;\n",
              "\n",
              "          const docLinkHtml = 'Like what you see? Visit the ' +\n",
              "            '<a target=\"_blank\" href=https://colab.research.google.com/notebooks/data_table.ipynb>data table notebook</a>'\n",
              "            + ' to learn more about interactive tables.';\n",
              "          element.innerHTML = '';\n",
              "          dataTable['output_type'] = 'display_data';\n",
              "          await google.colab.output.renderOutput(dataTable, element);\n",
              "          const docLink = document.createElement('div');\n",
              "          docLink.innerHTML = docLinkHtml;\n",
              "          element.appendChild(docLink);\n",
              "        }\n",
              "      </script>\n",
              "    </div>\n",
              "  </div>\n",
              "  "
            ]
          },
          "metadata": {},
          "execution_count": 8
        }
      ]
    },
    {
      "cell_type": "code",
      "source": [
        "s={'Chinstrap penguin':0,'Little penguin':1,'Galapagos penguin':2,'Gentoo penguin':3,}\n",
        "df['Species']=df['Species'].map(s)\n",
        "df=df.astype({'Species': 'int'})\n",
        "df"
      ],
      "metadata": {
        "colab": {
          "base_uri": "https://localhost:8080/",
          "height": 424
        },
        "id": "Hg6f0MtB-yGh",
        "outputId": "421ac28d-395a-4042-8a56-e30c79088ee7"
      },
      "execution_count": null,
      "outputs": [
        {
          "output_type": "execute_result",
          "data": {
            "text/plain": [
              "      ID  Length_cm  Weight_g  Species         Scientific Name    Inspector  \\\n",
              "0      1  45.000000    2847.0        2   Spheniscus mendiculus        Janet   \n",
              "1      2  53.000000    3625.0        0  Pygoscelis antarcticus       Elbert   \n",
              "2      3  83.000000    3600.0        0  Pygoscelis antarcticus        Janet   \n",
              "3      4  72.000000    3282.0        0  Pygoscelis antarcticus  Antisthenes   \n",
              "4      5  87.090909    5630.0        3        Pygoscelis papua       Alisha   \n",
              "..   ...        ...       ...      ...                     ...          ...   \n",
              "327  334  64.000000    3752.0        0  Pygoscelis antarcticus  Charpentier   \n",
              "328  335  45.000000    2300.0        2   Spheniscus mendiculus  Antisthenes   \n",
              "329  336  53.000000     897.0        1         Eudyptula minor        Janet   \n",
              "330  337  37.000000     812.0        1         Eudyptula minor  Antisthenes   \n",
              "331  338  74.000000    6013.0        3        Pygoscelis papua  Charpentier   \n",
              "\n",
              "    Measurement Date  \n",
              "0          1990/9/19  \n",
              "1          1991/6/21  \n",
              "2          1991/3/17  \n",
              "3          1991/3/25  \n",
              "4          1990/9/21  \n",
              "..               ...  \n",
              "327         1991/3/8  \n",
              "328        1991/3/11  \n",
              "329        1990/9/17  \n",
              "330        1990/9/22  \n",
              "331        1990/9/11  \n",
              "\n",
              "[332 rows x 7 columns]"
            ],
            "text/html": [
              "\n",
              "  <div id=\"df-483c8133-2a12-4948-8d28-0877c6d3c641\">\n",
              "    <div class=\"colab-df-container\">\n",
              "      <div>\n",
              "<style scoped>\n",
              "    .dataframe tbody tr th:only-of-type {\n",
              "        vertical-align: middle;\n",
              "    }\n",
              "\n",
              "    .dataframe tbody tr th {\n",
              "        vertical-align: top;\n",
              "    }\n",
              "\n",
              "    .dataframe thead th {\n",
              "        text-align: right;\n",
              "    }\n",
              "</style>\n",
              "<table border=\"1\" class=\"dataframe\">\n",
              "  <thead>\n",
              "    <tr style=\"text-align: right;\">\n",
              "      <th></th>\n",
              "      <th>ID</th>\n",
              "      <th>Length_cm</th>\n",
              "      <th>Weight_g</th>\n",
              "      <th>Species</th>\n",
              "      <th>Scientific Name</th>\n",
              "      <th>Inspector</th>\n",
              "      <th>Measurement Date</th>\n",
              "    </tr>\n",
              "  </thead>\n",
              "  <tbody>\n",
              "    <tr>\n",
              "      <th>0</th>\n",
              "      <td>1</td>\n",
              "      <td>45.000000</td>\n",
              "      <td>2847.0</td>\n",
              "      <td>2</td>\n",
              "      <td>Spheniscus mendiculus</td>\n",
              "      <td>Janet</td>\n",
              "      <td>1990/9/19</td>\n",
              "    </tr>\n",
              "    <tr>\n",
              "      <th>1</th>\n",
              "      <td>2</td>\n",
              "      <td>53.000000</td>\n",
              "      <td>3625.0</td>\n",
              "      <td>0</td>\n",
              "      <td>Pygoscelis antarcticus</td>\n",
              "      <td>Elbert</td>\n",
              "      <td>1991/6/21</td>\n",
              "    </tr>\n",
              "    <tr>\n",
              "      <th>2</th>\n",
              "      <td>3</td>\n",
              "      <td>83.000000</td>\n",
              "      <td>3600.0</td>\n",
              "      <td>0</td>\n",
              "      <td>Pygoscelis antarcticus</td>\n",
              "      <td>Janet</td>\n",
              "      <td>1991/3/17</td>\n",
              "    </tr>\n",
              "    <tr>\n",
              "      <th>3</th>\n",
              "      <td>4</td>\n",
              "      <td>72.000000</td>\n",
              "      <td>3282.0</td>\n",
              "      <td>0</td>\n",
              "      <td>Pygoscelis antarcticus</td>\n",
              "      <td>Antisthenes</td>\n",
              "      <td>1991/3/25</td>\n",
              "    </tr>\n",
              "    <tr>\n",
              "      <th>4</th>\n",
              "      <td>5</td>\n",
              "      <td>87.090909</td>\n",
              "      <td>5630.0</td>\n",
              "      <td>3</td>\n",
              "      <td>Pygoscelis papua</td>\n",
              "      <td>Alisha</td>\n",
              "      <td>1990/9/21</td>\n",
              "    </tr>\n",
              "    <tr>\n",
              "      <th>...</th>\n",
              "      <td>...</td>\n",
              "      <td>...</td>\n",
              "      <td>...</td>\n",
              "      <td>...</td>\n",
              "      <td>...</td>\n",
              "      <td>...</td>\n",
              "      <td>...</td>\n",
              "    </tr>\n",
              "    <tr>\n",
              "      <th>327</th>\n",
              "      <td>334</td>\n",
              "      <td>64.000000</td>\n",
              "      <td>3752.0</td>\n",
              "      <td>0</td>\n",
              "      <td>Pygoscelis antarcticus</td>\n",
              "      <td>Charpentier</td>\n",
              "      <td>1991/3/8</td>\n",
              "    </tr>\n",
              "    <tr>\n",
              "      <th>328</th>\n",
              "      <td>335</td>\n",
              "      <td>45.000000</td>\n",
              "      <td>2300.0</td>\n",
              "      <td>2</td>\n",
              "      <td>Spheniscus mendiculus</td>\n",
              "      <td>Antisthenes</td>\n",
              "      <td>1991/3/11</td>\n",
              "    </tr>\n",
              "    <tr>\n",
              "      <th>329</th>\n",
              "      <td>336</td>\n",
              "      <td>53.000000</td>\n",
              "      <td>897.0</td>\n",
              "      <td>1</td>\n",
              "      <td>Eudyptula minor</td>\n",
              "      <td>Janet</td>\n",
              "      <td>1990/9/17</td>\n",
              "    </tr>\n",
              "    <tr>\n",
              "      <th>330</th>\n",
              "      <td>337</td>\n",
              "      <td>37.000000</td>\n",
              "      <td>812.0</td>\n",
              "      <td>1</td>\n",
              "      <td>Eudyptula minor</td>\n",
              "      <td>Antisthenes</td>\n",
              "      <td>1990/9/22</td>\n",
              "    </tr>\n",
              "    <tr>\n",
              "      <th>331</th>\n",
              "      <td>338</td>\n",
              "      <td>74.000000</td>\n",
              "      <td>6013.0</td>\n",
              "      <td>3</td>\n",
              "      <td>Pygoscelis papua</td>\n",
              "      <td>Charpentier</td>\n",
              "      <td>1990/9/11</td>\n",
              "    </tr>\n",
              "  </tbody>\n",
              "</table>\n",
              "<p>332 rows × 7 columns</p>\n",
              "</div>\n",
              "      <button class=\"colab-df-convert\" onclick=\"convertToInteractive('df-483c8133-2a12-4948-8d28-0877c6d3c641')\"\n",
              "              title=\"Convert this dataframe to an interactive table.\"\n",
              "              style=\"display:none;\">\n",
              "        \n",
              "  <svg xmlns=\"http://www.w3.org/2000/svg\" height=\"24px\"viewBox=\"0 0 24 24\"\n",
              "       width=\"24px\">\n",
              "    <path d=\"M0 0h24v24H0V0z\" fill=\"none\"/>\n",
              "    <path d=\"M18.56 5.44l.94 2.06.94-2.06 2.06-.94-2.06-.94-.94-2.06-.94 2.06-2.06.94zm-11 1L8.5 8.5l.94-2.06 2.06-.94-2.06-.94L8.5 2.5l-.94 2.06-2.06.94zm10 10l.94 2.06.94-2.06 2.06-.94-2.06-.94-.94-2.06-.94 2.06-2.06.94z\"/><path d=\"M17.41 7.96l-1.37-1.37c-.4-.4-.92-.59-1.43-.59-.52 0-1.04.2-1.43.59L10.3 9.45l-7.72 7.72c-.78.78-.78 2.05 0 2.83L4 21.41c.39.39.9.59 1.41.59.51 0 1.02-.2 1.41-.59l7.78-7.78 2.81-2.81c.8-.78.8-2.07 0-2.86zM5.41 20L4 18.59l7.72-7.72 1.47 1.35L5.41 20z\"/>\n",
              "  </svg>\n",
              "      </button>\n",
              "      \n",
              "  <style>\n",
              "    .colab-df-container {\n",
              "      display:flex;\n",
              "      flex-wrap:wrap;\n",
              "      gap: 12px;\n",
              "    }\n",
              "\n",
              "    .colab-df-convert {\n",
              "      background-color: #E8F0FE;\n",
              "      border: none;\n",
              "      border-radius: 50%;\n",
              "      cursor: pointer;\n",
              "      display: none;\n",
              "      fill: #1967D2;\n",
              "      height: 32px;\n",
              "      padding: 0 0 0 0;\n",
              "      width: 32px;\n",
              "    }\n",
              "\n",
              "    .colab-df-convert:hover {\n",
              "      background-color: #E2EBFA;\n",
              "      box-shadow: 0px 1px 2px rgba(60, 64, 67, 0.3), 0px 1px 3px 1px rgba(60, 64, 67, 0.15);\n",
              "      fill: #174EA6;\n",
              "    }\n",
              "\n",
              "    [theme=dark] .colab-df-convert {\n",
              "      background-color: #3B4455;\n",
              "      fill: #D2E3FC;\n",
              "    }\n",
              "\n",
              "    [theme=dark] .colab-df-convert:hover {\n",
              "      background-color: #434B5C;\n",
              "      box-shadow: 0px 1px 3px 1px rgba(0, 0, 0, 0.15);\n",
              "      filter: drop-shadow(0px 1px 2px rgba(0, 0, 0, 0.3));\n",
              "      fill: #FFFFFF;\n",
              "    }\n",
              "  </style>\n",
              "\n",
              "      <script>\n",
              "        const buttonEl =\n",
              "          document.querySelector('#df-483c8133-2a12-4948-8d28-0877c6d3c641 button.colab-df-convert');\n",
              "        buttonEl.style.display =\n",
              "          google.colab.kernel.accessAllowed ? 'block' : 'none';\n",
              "\n",
              "        async function convertToInteractive(key) {\n",
              "          const element = document.querySelector('#df-483c8133-2a12-4948-8d28-0877c6d3c641');\n",
              "          const dataTable =\n",
              "            await google.colab.kernel.invokeFunction('convertToInteractive',\n",
              "                                                     [key], {});\n",
              "          if (!dataTable) return;\n",
              "\n",
              "          const docLinkHtml = 'Like what you see? Visit the ' +\n",
              "            '<a target=\"_blank\" href=https://colab.research.google.com/notebooks/data_table.ipynb>data table notebook</a>'\n",
              "            + ' to learn more about interactive tables.';\n",
              "          element.innerHTML = '';\n",
              "          dataTable['output_type'] = 'display_data';\n",
              "          await google.colab.output.renderOutput(dataTable, element);\n",
              "          const docLink = document.createElement('div');\n",
              "          docLink.innerHTML = docLinkHtml;\n",
              "          element.appendChild(docLink);\n",
              "        }\n",
              "      </script>\n",
              "    </div>\n",
              "  </div>\n",
              "  "
            ]
          },
          "metadata": {},
          "execution_count": 9
        }
      ]
    },
    {
      "cell_type": "code",
      "source": [
        "# plot Length_cm-Weight_g -> Species scatter graph\n",
        "# color list = https://datascientyst.com/full-list-named-colors-pandas-python-matplotlib/\n",
        "\n",
        "c={ 0:'red', 1:'blue',2:'green',3:'yellow',}\n",
        "df['colors']=df['Species'].map(c)\n",
        "\n",
        "df.plot(kind='scatter',x='Length_cm',y='Weight_g',c=df['colors'], title= 'Length and Weight distribution for each species')"
      ],
      "metadata": {
        "colab": {
          "base_uri": "https://localhost:8080/",
          "height": 313
        },
        "id": "qxS4Xf-f-z7j",
        "outputId": "da5e5bdb-b0b8-4101-b3df-3184991b8e46"
      },
      "execution_count": null,
      "outputs": [
        {
          "output_type": "execute_result",
          "data": {
            "text/plain": [
              "<matplotlib.axes._subplots.AxesSubplot at 0x7ff9433491d0>"
            ]
          },
          "metadata": {},
          "execution_count": 10
        },
        {
          "output_type": "display_data",
          "data": {
            "text/plain": [
              "<Figure size 432x288 with 1 Axes>"
            ],
            "image/png": "[encoded data removed]"
          },
          "metadata": {
            "needs_background": "light"
          }
        }
      ]
    },
    {
      "cell_type": "code",
      "source": [
        "# training model \n",
        "from sklearn.cluster import KMeans\n",
        "df_X = df[['Length_cm','Weight_g']]\n",
        "\n",
        "\n",
        "# pick suitable k\n",
        "s = []\n",
        "for k in range(1,15):\n",
        "    km = KMeans(n_clusters=k)\n",
        "    km.fit(df_X)\n",
        "    s.append(km.inertia_)\n",
        "print(s)"
      ],
      "metadata": {
        "colab": {
          "base_uri": "https://localhost:8080/"
        },
        "id": "VUlGXZJP-7PJ",
        "outputId": "919ab1f9-5f0c-4887-bfe2-c33bd4d729ae"
      },
      "execution_count": null,
      "outputs": [
        {
          "output_type": "stream",
          "name": "stdout",
          "text": [
            "[1830394465.230484, 446918526.76443934, 231158977.69087416, 102188989.30211155, 63567667.98263845, 42423014.948927864, 28810518.369323254, 21348648.425988585, 16394399.358178968, 12666955.685095446, 10755847.639900234, 9335951.883011362, 7888998.186775595, 6714670.996855423]\n"
          ]
        }
      ]
    },
    {
      "cell_type": "code",
      "source": [
        "# 看視覺化圖表決定參數K值\n",
        "df_kmeans = pd.DataFrame()\n",
        "df_kmeans['inertia_'] = s\n",
        "df_kmeans.index = list(range(1,15))   \n",
        "df_kmeans.plot(grid=True)"
      ],
      "metadata": {
        "colab": {
          "base_uri": "https://localhost:8080/",
          "height": 293
        },
        "id": "BHs6x-gi-73H",
        "outputId": "6cff56fb-1924-4211-dd82-544029ef6466"
      },
      "execution_count": null,
      "outputs": [
        {
          "output_type": "execute_result",
          "data": {
            "text/plain": [
              "<matplotlib.axes._subplots.AxesSubplot at 0x7ff936413e10>"
            ]
          },
          "metadata": {},
          "execution_count": 12
        },
        {
          "output_type": "display_data",
          "data": {
            "text/plain": [
              "<Figure size 432x288 with 1 Axes>"
            ],
            "image/png": "[encoded data removed]"
          },
          "metadata": {
            "needs_background": "light"
          }
        }
      ]
    },
    {
      "cell_type": "code",
      "source": [
        "k=4                     \n",
        "km=KMeans(n_clusters=k)  \n",
        "km.fit(df_X)"
      ],
      "metadata": {
        "colab": {
          "base_uri": "https://localhost:8080/"
        },
        "id": "BoZyH-iO-8-k",
        "outputId": "2a73facd-05ad-4b63-98e6-26920a460634"
      },
      "execution_count": null,
      "outputs": [
        {
          "output_type": "execute_result",
          "data": {
            "text/plain": [
              "KMeans(n_clusters=4)"
            ]
          },
          "metadata": {},
          "execution_count": 13
        }
      ]
    },
    {
      "cell_type": "code",
      "source": [
        "print('分群的預測結果：')\n",
        "pred = km.fit_predict(df_X) \n",
        "pred "
      ],
      "metadata": {
        "colab": {
          "base_uri": "https://localhost:8080/"
        },
        "id": "wf7pJhST--BG",
        "outputId": "41ca4928-a33a-4f72-ceed-9da32735463e"
      },
      "execution_count": null,
      "outputs": [
        {
          "output_type": "stream",
          "name": "stdout",
          "text": [
            "分群的預測結果：\n"
          ]
        },
        {
          "output_type": "execute_result",
          "data": {
            "text/plain": [
              "array([2, 2, 2, 2, 3, 3, 3, 2, 2, 3, 1, 3, 2, 3, 3, 0, 3, 2, 3, 1, 2, 3,\n",
              "       3, 1, 1, 2, 1, 3, 1, 3, 0, 2, 3, 1, 2, 0, 2, 2, 3, 2, 2, 3, 2, 2,\n",
              "       0, 3, 1, 0, 1, 3, 2, 2, 3, 3, 2, 3, 3, 3, 0, 2, 1, 3, 1, 3, 1, 2,\n",
              "       1, 1, 3, 0, 1, 2, 0, 2, 2, 2, 1, 1, 3, 2, 1, 3, 2, 3, 2, 2, 2, 2,\n",
              "       0, 2, 1, 3, 1, 1, 1, 3, 2, 2, 2, 2, 3, 3, 3, 1, 0, 0, 0, 2, 3, 2,\n",
              "       2, 3, 0, 0, 2, 3, 2, 2, 3, 3, 0, 2, 2, 1, 1, 3, 1, 1, 3, 1, 3, 2,\n",
              "       3, 3, 0, 3, 2, 3, 2, 2, 1, 2, 3, 2, 1, 1, 0, 2, 3, 1, 3, 2, 3, 3,\n",
              "       2, 0, 2, 3, 2, 3, 3, 2, 1, 0, 1, 0, 1, 0, 1, 2, 3, 1, 0, 0, 1, 1,\n",
              "       1, 1, 0, 0, 2, 2, 0, 2, 0, 1, 3, 3, 3, 0, 2, 1, 2, 2, 0, 2, 0, 3,\n",
              "       1, 3, 2, 3, 0, 2, 1, 2, 1, 2, 2, 1, 3, 1, 1, 2, 3, 1, 1, 3, 2, 3,\n",
              "       1, 0, 1, 2, 3, 1, 0, 1, 1, 2, 3, 2, 1, 1, 1, 2, 0, 1, 3, 2, 0, 1,\n",
              "       2, 1, 0, 1, 3, 0, 1, 2, 3, 1, 3, 1, 2, 3, 2, 2, 1, 2, 2, 2, 1, 2,\n",
              "       0, 2, 1, 3, 1, 0, 0, 1, 0, 3, 3, 1, 1, 3, 2, 3, 1, 1, 0, 3, 3, 3,\n",
              "       2, 1, 2, 1, 1, 0, 2, 1, 3, 1, 1, 1, 3, 1, 1, 2, 1, 1, 2, 1, 0, 2,\n",
              "       1, 1, 1, 3, 0, 1, 3, 1, 0, 2, 0, 1, 2, 2, 1, 3, 3, 1, 0, 2, 2, 1,\n",
              "       1, 3], dtype=int32)"
            ]
          },
          "metadata": {},
          "execution_count": 14
        }
      ]
    },
    {
      "cell_type": "code",
      "source": [
        "df1 = df_X.copy()\n",
        "df1['pred'] = pred\n",
        "c = {0:'r', 1:'g', 2:'b',3:'orange'}\n",
        "df1['colors'] = df1['pred'].map(c)\n",
        "df1.plot(kind='scatter', x='Length_cm',y='Weight_g',c=df1['colors'])"
      ],
      "metadata": {
        "colab": {
          "base_uri": "https://localhost:8080/",
          "height": 297
        },
        "id": "--Cld8Z1--6k",
        "outputId": "9dadb26b-423a-4806-f11d-ee1346235a70"
      },
      "execution_count": null,
      "outputs": [
        {
          "output_type": "execute_result",
          "data": {
            "text/plain": [
              "<matplotlib.axes._subplots.AxesSubplot at 0x7ff93104cbd0>"
            ]
          },
          "metadata": {},
          "execution_count": 15
        },
        {
          "output_type": "display_data",
          "data": {
            "text/plain": [
              "<Figure size 432x288 with 1 Axes>"
            ],
            "image/png": "[encoded data removed]"
          },
          "metadata": {
            "needs_background": "light"
          }
        }
      ]
    },
    {
      "cell_type": "code",
      "source": [
        "new = [[52,1234]]\n",
        "v=km.predict(new)\n",
        "print('預測結果為上塗顏色代號：', c[int(v)])"
      ],
      "metadata": {
        "colab": {
          "base_uri": "https://localhost:8080/"
        },
        "id": "ugEvh4XE_BwX",
        "outputId": "16a571cc-9c29-4fa1-c31f-5ccbf4d5ddd8"
      },
      "execution_count": null,
      "outputs": [
        {
          "output_type": "stream",
          "name": "stdout",
          "text": [
            "預測結果為上塗顏色代號： g\n"
          ]
        },
        {
          "output_type": "stream",
          "name": "stderr",
          "text": [
            "/usr/local/lib/python3.7/dist-packages/sklearn/base.py:451: UserWarning: X does not have valid feature names, but KMeans was fitted with feature names\n",
            "  \"X does not have valid feature names, but\"\n"
          ]
        }
      ]
    },
    {
      "cell_type": "code",
      "source": [
        "df.to_csv('/content/MyGoogleDrive/My Drive/Colab Notebooks/Python_Data_Science/penguin10.csv',index=False)"
      ],
      "metadata": {
        "id": "Ht6-o4vs_G5n"
      },
      "execution_count": null,
      "outputs": []
    },
    {
      "cell_type": "code",
      "source": [
        "# read ShoeSize data\n",
        "from google.colab import drive\n",
        "drive.mount('/content/MyGoogleDrive')\n",
        "import pandas as pd\n",
        "df=pd.read_csv('/content/MyGoogleDrive/My Drive/Colab Notebooks/Python-for-Titanic/Ch10/ShoeSize.csv')\n",
        "df.info()"
      ],
      "metadata": {
        "colab": {
          "base_uri": "https://localhost:8080/"
        },
        "id": "JoaA9j6HDDu7",
        "outputId": "0a9b3c81-2be8-4f97-de18-9cd069e7d6fd"
      },
      "execution_count": 111,
      "outputs": [
        {
          "output_type": "stream",
          "name": "stdout",
          "text": [
            "Drive already mounted at /content/MyGoogleDrive; to attempt to forcibly remount, call drive.mount(\"/content/MyGoogleDrive\", force_remount=True).\n",
            "<class 'pandas.core.frame.DataFrame'>\n",
            "RangeIndex: 10009 entries, 0 to 10008\n",
            "Data columns (total 5 columns):\n",
            " #   Column        Non-Null Count  Dtype  \n",
            "---  ------        --------------  -----  \n",
            " 0   ID            10009 non-null  int64  \n",
            " 1   Gender        10009 non-null  object \n",
            " 2   Height_cm     10004 non-null  float64\n",
            " 3   Weight_kg     9999 non-null   float64\n",
            " 4   Shoe size_cm  9994 non-null   float64\n",
            "dtypes: float64(3), int64(1), object(1)\n",
            "memory usage: 391.1+ KB\n"
          ]
        }
      ]
    },
    {
      "cell_type": "code",
      "source": [
        "# shoesize data cleaning\n",
        "df=df.drop_duplicates()\n",
        "df=df.reset_index(drop=True)\n",
        "gender_list=df['Gender'].unique().tolist()\n",
        "\n",
        "for gender in gender_list:\n",
        "    filter=df['Gender']==gender\n",
        "    m_l=(df[filter]['Height_cm'].mean())\n",
        "    m_w=(df[filter]['Weight_kg'].mean())\n",
        "    df.loc[filter,'Height_cm']=df.loc[filter,'Height_cm'].fillna(m_l)\n",
        "    df.loc[filter,'Weight_kg']=df.loc[filter,'Weight_kg'].fillna(m_w)\n",
        "\n",
        "df['Shoe size_mm']=df['Shoe size_cm']*10\n",
        "\n",
        "df=df.dropna(axis='rows',how='any')\n",
        "df=df.reset_index(drop=True)\n",
        "df=df.astype({'Shoe size_cm': 'int'})\n",
        "df=df.astype({'Shoe size_mm': 'int'})\n",
        "s={'Female':0,'Male':1}\n",
        "df['Gender']=df['Gender'].map(s)\n",
        "df['BMI']= df['Weight_kg'] / ((df['Height_cm']/100.0)**2)\n",
        "df.info()"
      ],
      "metadata": {
        "colab": {
          "base_uri": "https://localhost:8080/"
        },
        "id": "lhxGzU6VDLiK",
        "outputId": "ededa2d1-8579-4ee5-f7b7-b70146075d12"
      },
      "execution_count": 112,
      "outputs": [
        {
          "output_type": "stream",
          "name": "stdout",
          "text": [
            "<class 'pandas.core.frame.DataFrame'>\n",
            "RangeIndex: 9985 entries, 0 to 9984\n",
            "Data columns (total 7 columns):\n",
            " #   Column        Non-Null Count  Dtype  \n",
            "---  ------        --------------  -----  \n",
            " 0   ID            9985 non-null   int64  \n",
            " 1   Gender        9985 non-null   int64  \n",
            " 2   Height_cm     9985 non-null   float64\n",
            " 3   Weight_kg     9985 non-null   float64\n",
            " 4   Shoe size_cm  9985 non-null   int64  \n",
            " 5   Shoe size_mm  9985 non-null   int64  \n",
            " 6   BMI           9985 non-null   float64\n",
            "dtypes: float64(3), int64(4)\n",
            "memory usage: 546.2 KB\n"
          ]
        }
      ]
    },
    {
      "cell_type": "code",
      "source": [
        "filter_female=df['Gender']==0\n",
        "ax=df[filter_female].groupby(['Shoe size_mm'])['ID'].count().plot(kind='bar',title='shoe_size_count')\n",
        "\n",
        "filter_male=df['Gender']==1\n",
        "df[filter_male].groupby(['Shoe size_mm'])['ID'].count().plot(kind='bar',title='shoe_size_count')\n",
        "\n",
        "from random import randint\n",
        "shoe_size_list=df['Shoe size_mm'].unique().tolist()\n",
        "# print(shoe_size_list)\n",
        "# print(type(shoe_size_list))\n",
        "n=len(shoe_size_list)\n",
        "colors_list=[]\n",
        "for i in range(n):\n",
        "  colors_list.append('#%06X' % randint(0, 0xFFFFFF))\n",
        "                                    \n",
        "# colors_list\n",
        "color_converter = dict(zip(shoe_size_list, colors_list))\n",
        "print(len(color_converter))\n",
        "\n",
        "df['shoe_size_colors']=df['Shoe size_mm'].map(color_converter)\n"
      ],
      "metadata": {
        "colab": {
          "base_uri": "https://localhost:8080/",
          "height": 322
        },
        "id": "I_NDsG-kDjXf",
        "outputId": "59057bea-fb89-44d7-8999-1cc8643166cc"
      },
      "execution_count": 113,
      "outputs": [
        {
          "output_type": "stream",
          "name": "stdout",
          "text": [
            "25\n"
          ]
        },
        {
          "output_type": "display_data",
          "data": {
            "text/plain": [
              "<Figure size 432x288 with 1 Axes>"
            ],
            "image/png": "[encoded data removed]"
          },
          "metadata": {
            "needs_background": "light"
          }
        }
      ]
    },
    {
      "cell_type": "code",
      "source": [
        "df[filter_male].plot(kind='scatter',x='BMI',y='Shoe size_mm',c=df[filter_male]['shoe_size_colors'])"
      ],
      "metadata": {
        "colab": {
          "base_uri": "https://localhost:8080/",
          "height": 296
        },
        "id": "y8zOTQORDpb3",
        "outputId": "81d7c981-3edb-4d8d-c4fb-ce88cf93d05d"
      },
      "execution_count": 115,
      "outputs": [
        {
          "output_type": "execute_result",
          "data": {
            "text/plain": [
              "<matplotlib.axes._subplots.AxesSubplot at 0x7ff92e1eb350>"
            ]
          },
          "metadata": {},
          "execution_count": 115
        },
        {
          "output_type": "display_data",
          "data": {
            "text/plain": [
              "<Figure size 432x288 with 1 Axes>"
            ],
            "image/png": "[encoded data removed]"
          },
          "metadata": {
            "needs_background": "light"
          }
        }
      ]
    },
    {
      "cell_type": "code",
      "source": [
        "df[filter_female].plot(kind='scatter',x='BMI',y='Shoe size_mm',c=df[filter_female]['shoe_size_colors'])"
      ],
      "metadata": {
        "colab": {
          "base_uri": "https://localhost:8080/",
          "height": 296
        },
        "id": "Cow5qPYrD0Vz",
        "outputId": "4dfeaf9a-99b9-489b-a786-ceec95f6e5dc"
      },
      "execution_count": 116,
      "outputs": [
        {
          "output_type": "execute_result",
          "data": {
            "text/plain": [
              "<matplotlib.axes._subplots.AxesSubplot at 0x7ff92e16ab10>"
            ]
          },
          "metadata": {},
          "execution_count": 116
        },
        {
          "output_type": "display_data",
          "data": {
            "text/plain": [
              "<Figure size 432x288 with 1 Axes>"
            ],
            "image/png": "[encoded data removed]"
          },
          "metadata": {
            "needs_background": "light"
          }
        }
      ]
    },
    {
      "cell_type": "code",
      "source": [
        "# training model \n",
        "from sklearn.cluster import KMeans\n",
        "df_X = df[['Gender','Height_cm','BMI']]\n",
        "\n",
        "\n",
        "# pick suitable k\n",
        "s = []\n",
        "for k in range(1,20):\n",
        "    km = KMeans(n_clusters=k)\n",
        "    km.fit(df_X)\n",
        "    s.append(km.inertia_)\n",
        "print(s)"
      ],
      "metadata": {
        "colab": {
          "base_uri": "https://localhost:8080/"
        },
        "id": "RC4jEZrBD5GH",
        "outputId": "c4c2080d-fd57-41b2-cb17-aaf800f9e34a"
      },
      "execution_count": 118,
      "outputs": [
        {
          "output_type": "stream",
          "name": "stdout",
          "text": [
            "[1021640.0013342442, 351329.8249737929, 200274.14475382335, 136646.97550222505, 105719.12043789488, 86932.66281381174, 75885.64162811349, 66445.48025959091, 59510.40671440633, 54028.118860262955, 49191.10088143902, 46149.39040581827, 42544.25972636469, 39590.07909864561, 36753.985698899334, 35063.884961736054, 33239.02568105959, 31988.637619545258, 29956.75909679435]\n"
          ]
        }
      ]
    },
    {
      "cell_type": "code",
      "source": [
        "# 看視覺化圖表決定參數K值\n",
        "df_kmeans = pd.DataFrame()\n",
        "df_kmeans['inertia_'] = s\n",
        "df_kmeans.index = list(range(1,20))   \n",
        "df_kmeans.plot(grid=True)"
      ],
      "metadata": {
        "colab": {
          "base_uri": "https://localhost:8080/",
          "height": 293
        },
        "id": "id4jw71_D7uQ",
        "outputId": "420d1d65-916c-4641-c780-0b11ff9de774"
      },
      "execution_count": 119,
      "outputs": [
        {
          "output_type": "execute_result",
          "data": {
            "text/plain": [
              "<matplotlib.axes._subplots.AxesSubplot at 0x7ff92e06ebd0>"
            ]
          },
          "metadata": {},
          "execution_count": 119
        },
        {
          "output_type": "display_data",
          "data": {
            "text/plain": [
              "<Figure size 432x288 with 1 Axes>"
            ],
            "image/png": "[encoded data removed]"
          },
          "metadata": {
            "needs_background": "light"
          }
        }
      ]
    },
    {
      "cell_type": "code",
      "source": [
        "k=4                  \n",
        "km=KMeans(n_clusters=k)  \n",
        "km.fit(df_X)"
      ],
      "metadata": {
        "colab": {
          "base_uri": "https://localhost:8080/"
        },
        "id": "eYQOyjUxEAzG",
        "outputId": "c4dd19b5-d47e-4f47-ecfa-c0bbf42774b5"
      },
      "execution_count": 120,
      "outputs": [
        {
          "output_type": "execute_result",
          "data": {
            "text/plain": [
              "KMeans(n_clusters=4)"
            ]
          },
          "metadata": {},
          "execution_count": 120
        }
      ]
    },
    {
      "cell_type": "code",
      "source": [
        "print('分群的預測結果：')\n",
        "pred = km.fit_predict(df_X) \n",
        "pred "
      ],
      "metadata": {
        "colab": {
          "base_uri": "https://localhost:8080/"
        },
        "id": "RixLVEQFEChP",
        "outputId": "06716325-a1c2-4d1b-b1ec-5c410bd60e16"
      },
      "execution_count": 121,
      "outputs": [
        {
          "output_type": "stream",
          "name": "stdout",
          "text": [
            "分群的預測結果：\n"
          ]
        },
        {
          "output_type": "execute_result",
          "data": {
            "text/plain": [
              "array([1, 3, 1, ..., 2, 2, 0], dtype=int32)"
            ]
          },
          "metadata": {},
          "execution_count": 121
        }
      ]
    },
    {
      "cell_type": "code",
      "source": [
        "new = [[1,176,24.85]]\n",
        "v=km.predict(new)\n",
        "print(v)"
      ],
      "metadata": {
        "colab": {
          "base_uri": "https://localhost:8080/"
        },
        "id": "dveWSgneEE9y",
        "outputId": "57188075-a7b0-4468-8085-b5fded9d8321"
      },
      "execution_count": 122,
      "outputs": [
        {
          "output_type": "stream",
          "name": "stdout",
          "text": [
            "[1]\n"
          ]
        },
        {
          "output_type": "stream",
          "name": "stderr",
          "text": [
            "/usr/local/lib/python3.7/dist-packages/sklearn/base.py:451: UserWarning: X does not have valid feature names, but KMeans was fitted with feature names\n",
            "  \"X does not have valid feature names, but\"\n"
          ]
        }
      ]
    },
    {
      "cell_type": "code",
      "source": [
        "df.to_csv('/content/MyGoogleDrive/My Drive/Colab Notebooks/Python_Data_Science/shoesize10.csv',index=False)"
      ],
      "metadata": {
        "id": "qCp9oEFbEMQB"
      },
      "execution_count": 123,
      "outputs": []
    }
  ]
}