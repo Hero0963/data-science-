{
  "nbformat": 4,
  "nbformat_minor": 0,
  "metadata": {
    "colab": {
      "name": "data_science_ch08.ipynb",
      "provenance": [],
      "authorship_tag": "ABX9TyM2+YytrpQkOPh5PnNPB2Xb",
      "include_colab_link": true
    },
    "kernelspec": {
      "name": "python3",
      "display_name": "Python 3"
    },
    "language_info": {
      "name": "python"
    }
  },
  "cells": [
    {
      "cell_type": "markdown",
      "metadata": {
        "id": "view-in-github",
        "colab_type": "text"
      },
      "source": [
        "<a href=\"https://colab.research.google.com/github/Hero0963/data_science/blob/main/data_science_ch08.ipynb\" target=\"_parent\"><img src=\"https://colab.research.google.com/assets/colab-badge.svg\" alt=\"Open In Colab\"/></a>"
      ]
    },
    {
      "cell_type": "code",
      "execution_count": 1,
      "metadata": {
        "colab": {
          "base_uri": "https://localhost:8080/"
        },
        "id": "67Ivp79H4HDB",
        "outputId": "45ead2f3-2150-4874-c84e-543f3bd5db62"
      },
      "outputs": [
        {
          "output_type": "stream",
          "name": "stdout",
          "text": [
            "Mounted at /content/MyGoogleDrive\n",
            "<class 'pandas.core.frame.DataFrame'>\n",
            "RangeIndex: 15 entries, 0 to 14\n",
            "Data columns (total 2 columns):\n",
            " #   Column            Non-Null Count  Dtype  \n",
            "---  ------            --------------  -----  \n",
            " 0   Decade            15 non-null     int64  \n",
            " 1   Change from 1880  15 non-null     float64\n",
            "dtypes: float64(1), int64(1)\n",
            "memory usage: 368.0 bytes\n",
            "None\n",
            "    Decade  Change from 1880\n",
            "0     1880             0.000\n",
            "1     1890             0.020\n",
            "2     1900             0.015\n",
            "3     1910            -0.002\n",
            "4     1920             0.099\n",
            "5     1930             0.231\n",
            "6     1940             0.309\n",
            "7     1950             0.254\n",
            "8     1960             0.260\n",
            "9     1970             0.273\n",
            "10    1980             0.450\n",
            "11    1990             0.587\n",
            "12    2000             0.787\n",
            "13    2010             1.027\n",
            "14    2020             1.037\n"
          ]
        }
      ],
      "source": [
        "# exercise_01\n",
        "\n",
        "# read average temperature data\n",
        "from google.colab import drive\n",
        "drive.mount('/content/MyGoogleDrive')\n",
        "import pandas as pd\n",
        "df=pd.read_csv('/content/MyGoogleDrive/My Drive/Colab Notebooks/Python-for-Titanic/Ch08/1880-2020年均溫.csv')\n",
        "print(df.info())\n",
        "print(df)"
      ]
    },
    {
      "cell_type": "code",
      "source": [
        "df.plot(kind='scatter',x='Decade',y='Change from 1880')"
      ],
      "metadata": {
        "colab": {
          "base_uri": "https://localhost:8080/",
          "height": 296
        },
        "id": "LrpSnTrn4o03",
        "outputId": "8a195f49-6434-4f63-d4e6-e0b714c2ec6b"
      },
      "execution_count": 2,
      "outputs": [
        {
          "output_type": "execute_result",
          "data": {
            "text/plain": [
              "<matplotlib.axes._subplots.AxesSubplot at 0x7f6e44012510>"
            ]
          },
          "metadata": {},
          "execution_count": 2
        },
        {
          "output_type": "display_data",
          "data": {
            "text/plain": [
              "<Figure size 432x288 with 1 Axes>"
            ],
            "image/png": "[encoded data removed]"
          },
          "metadata": {
            "needs_background": "light"
          }
        }
      ]
    },
    {
      "cell_type": "code",
      "source": [
        "df_X=df[['Decade']]\n",
        "df_y=df['Change from 1880']"
      ],
      "metadata": {
        "id": "j4Uxf_G84r-Q"
      },
      "execution_count": 3,
      "outputs": []
    },
    {
      "cell_type": "code",
      "source": [
        "from sklearn.linear_model import LinearRegression\n",
        "lm = LinearRegression()            \n",
        "lm.fit(df_X.values, df_y)  "
      ],
      "metadata": {
        "colab": {
          "base_uri": "https://localhost:8080/"
        },
        "id": "PjarIjpo4uVW",
        "outputId": "0d492134-2de1-4c76-e25b-22386ca51e42"
      },
      "execution_count": 4,
      "outputs": [
        {
          "output_type": "execute_result",
          "data": {
            "text/plain": [
              "LinearRegression()"
            ]
          },
          "metadata": {},
          "execution_count": 4
        }
      ]
    },
    {
      "cell_type": "code",
      "source": [
        "print('線性迴歸的模型為 y = f(x) = mx +b')  \n",
        "print('m 為 ',lm.coef_)           \n",
        "print('b 為 ', lm.intercept_)"
      ],
      "metadata": {
        "colab": {
          "base_uri": "https://localhost:8080/"
        },
        "id": "rVkDr15_4ydj",
        "outputId": "14bccc31-05df-489a-e4fd-9d931fd01d3b"
      },
      "execution_count": 5,
      "outputs": [
        {
          "output_type": "stream",
          "name": "stdout",
          "text": [
            "線性迴歸的模型為 y = f(x) = mx +b\n",
            "m 為  [0.00735893]\n",
            "b 為  -13.993444047619041\n"
          ]
        }
      ]
    },
    {
      "cell_type": "code",
      "source": [
        "temp = [[2030]]        \n",
        "p = lm.predict(temp) \n",
        "print(p) \n",
        "\n",
        "temp = [[2050]]        \n",
        "p = lm.predict(temp) \n",
        "print(p)"
      ],
      "metadata": {
        "colab": {
          "base_uri": "https://localhost:8080/"
        },
        "id": "ADxPpaC_40P0",
        "outputId": "848e2162-0b18-40e7-a4fc-e67dd6596627"
      },
      "execution_count": 6,
      "outputs": [
        {
          "output_type": "stream",
          "name": "stdout",
          "text": [
            "[0.94518095]\n",
            "[1.09235952]\n"
          ]
        }
      ]
    },
    {
      "cell_type": "code",
      "source": [
        "df_recent_50=df.drop(df.index[0:9],axis=0)\n",
        "df_recent_50"
      ],
      "metadata": {
        "colab": {
          "base_uri": "https://localhost:8080/",
          "height": 238
        },
        "id": "mgsCwiuC42GF",
        "outputId": "f4fbffe7-25f5-46c0-8ad4-746c594d617f"
      },
      "execution_count": 7,
      "outputs": [
        {
          "output_type": "execute_result",
          "data": {
            "text/plain": [
              "    Decade  Change from 1880\n",
              "9     1970             0.273\n",
              "10    1980             0.450\n",
              "11    1990             0.587\n",
              "12    2000             0.787\n",
              "13    2010             1.027\n",
              "14    2020             1.037"
            ],
            "text/html": [
              "\n",
              "  <div id=\"df-00454b66-418d-4f68-b9d6-4fcbb143d78e\">\n",
              "    <div class=\"colab-df-container\">\n",
              "      <div>\n",
              "<style scoped>\n",
              "    .dataframe tbody tr th:only-of-type {\n",
              "        vertical-align: middle;\n",
              "    }\n",
              "\n",
              "    .dataframe tbody tr th {\n",
              "        vertical-align: top;\n",
              "    }\n",
              "\n",
              "    .dataframe thead th {\n",
              "        text-align: right;\n",
              "    }\n",
              "</style>\n",
              "<table border=\"1\" class=\"dataframe\">\n",
              "  <thead>\n",
              "    <tr style=\"text-align: right;\">\n",
              "      <th></th>\n",
              "      <th>Decade</th>\n",
              "      <th>Change from 1880</th>\n",
              "    </tr>\n",
              "  </thead>\n",
              "  <tbody>\n",
              "    <tr>\n",
              "      <th>9</th>\n",
              "      <td>1970</td>\n",
              "      <td>0.273</td>\n",
              "    </tr>\n",
              "    <tr>\n",
              "      <th>10</th>\n",
              "      <td>1980</td>\n",
              "      <td>0.450</td>\n",
              "    </tr>\n",
              "    <tr>\n",
              "      <th>11</th>\n",
              "      <td>1990</td>\n",
              "      <td>0.587</td>\n",
              "    </tr>\n",
              "    <tr>\n",
              "      <th>12</th>\n",
              "      <td>2000</td>\n",
              "      <td>0.787</td>\n",
              "    </tr>\n",
              "    <tr>\n",
              "      <th>13</th>\n",
              "      <td>2010</td>\n",
              "      <td>1.027</td>\n",
              "    </tr>\n",
              "    <tr>\n",
              "      <th>14</th>\n",
              "      <td>2020</td>\n",
              "      <td>1.037</td>\n",
              "    </tr>\n",
              "  </tbody>\n",
              "</table>\n",
              "</div>\n",
              "      <button class=\"colab-df-convert\" onclick=\"convertToInteractive('df-00454b66-418d-4f68-b9d6-4fcbb143d78e')\"\n",
              "              title=\"Convert this dataframe to an interactive table.\"\n",
              "              style=\"display:none;\">\n",
              "        \n",
              "  <svg xmlns=\"http://www.w3.org/2000/svg\" height=\"24px\"viewBox=\"0 0 24 24\"\n",
              "       width=\"24px\">\n",
              "    <path d=\"M0 0h24v24H0V0z\" fill=\"none\"/>\n",
              "    <path d=\"M18.56 5.44l.94 2.06.94-2.06 2.06-.94-2.06-.94-.94-2.06-.94 2.06-2.06.94zm-11 1L8.5 8.5l.94-2.06 2.06-.94-2.06-.94L8.5 2.5l-.94 2.06-2.06.94zm10 10l.94 2.06.94-2.06 2.06-.94-2.06-.94-.94-2.06-.94 2.06-2.06.94z\"/><path d=\"M17.41 7.96l-1.37-1.37c-.4-.4-.92-.59-1.43-.59-.52 0-1.04.2-1.43.59L10.3 9.45l-7.72 7.72c-.78.78-.78 2.05 0 2.83L4 21.41c.39.39.9.59 1.41.59.51 0 1.02-.2 1.41-.59l7.78-7.78 2.81-2.81c.8-.78.8-2.07 0-2.86zM5.41 20L4 18.59l7.72-7.72 1.47 1.35L5.41 20z\"/>\n",
              "  </svg>\n",
              "      </button>\n",
              "      \n",
              "  <style>\n",
              "    .colab-df-container {\n",
              "      display:flex;\n",
              "      flex-wrap:wrap;\n",
              "      gap: 12px;\n",
              "    }\n",
              "\n",
              "    .colab-df-convert {\n",
              "      background-color: #E8F0FE;\n",
              "      border: none;\n",
              "      border-radius: 50%;\n",
              "      cursor: pointer;\n",
              "      display: none;\n",
              "      fill: #1967D2;\n",
              "      height: 32px;\n",
              "      padding: 0 0 0 0;\n",
              "      width: 32px;\n",
              "    }\n",
              "\n",
              "    .colab-df-convert:hover {\n",
              "      background-color: #E2EBFA;\n",
              "      box-shadow: 0px 1px 2px rgba(60, 64, 67, 0.3), 0px 1px 3px 1px rgba(60, 64, 67, 0.15);\n",
              "      fill: #174EA6;\n",
              "    }\n",
              "\n",
              "    [theme=dark] .colab-df-convert {\n",
              "      background-color: #3B4455;\n",
              "      fill: #D2E3FC;\n",
              "    }\n",
              "\n",
              "    [theme=dark] .colab-df-convert:hover {\n",
              "      background-color: #434B5C;\n",
              "      box-shadow: 0px 1px 3px 1px rgba(0, 0, 0, 0.15);\n",
              "      filter: drop-shadow(0px 1px 2px rgba(0, 0, 0, 0.3));\n",
              "      fill: #FFFFFF;\n",
              "    }\n",
              "  </style>\n",
              "\n",
              "      <script>\n",
              "        const buttonEl =\n",
              "          document.querySelector('#df-00454b66-418d-4f68-b9d6-4fcbb143d78e button.colab-df-convert');\n",
              "        buttonEl.style.display =\n",
              "          google.colab.kernel.accessAllowed ? 'block' : 'none';\n",
              "\n",
              "        async function convertToInteractive(key) {\n",
              "          const element = document.querySelector('#df-00454b66-418d-4f68-b9d6-4fcbb143d78e');\n",
              "          const dataTable =\n",
              "            await google.colab.kernel.invokeFunction('convertToInteractive',\n",
              "                                                     [key], {});\n",
              "          if (!dataTable) return;\n",
              "\n",
              "          const docLinkHtml = 'Like what you see? Visit the ' +\n",
              "            '<a target=\"_blank\" href=https://colab.research.google.com/notebooks/data_table.ipynb>data table notebook</a>'\n",
              "            + ' to learn more about interactive tables.';\n",
              "          element.innerHTML = '';\n",
              "          dataTable['output_type'] = 'display_data';\n",
              "          await google.colab.output.renderOutput(dataTable, element);\n",
              "          const docLink = document.createElement('div');\n",
              "          docLink.innerHTML = docLinkHtml;\n",
              "          element.appendChild(docLink);\n",
              "        }\n",
              "      </script>\n",
              "    </div>\n",
              "  </div>\n",
              "  "
            ]
          },
          "metadata": {},
          "execution_count": 7
        }
      ]
    },
    {
      "cell_type": "code",
      "source": [
        "df_recent_50.plot(kind='scatter',x='Decade',y='Change from 1880')"
      ],
      "metadata": {
        "colab": {
          "base_uri": "https://localhost:8080/",
          "height": 296
        },
        "id": "5cs5nGoS43_R",
        "outputId": "dc910a3b-9b52-46a0-e9ee-8bcbf40e9f03"
      },
      "execution_count": 8,
      "outputs": [
        {
          "output_type": "execute_result",
          "data": {
            "text/plain": [
              "<matplotlib.axes._subplots.AxesSubplot at 0x7f6e37348190>"
            ]
          },
          "metadata": {},
          "execution_count": 8
        },
        {
          "output_type": "display_data",
          "data": {
            "text/plain": [
              "<Figure size 432x288 with 1 Axes>"
            ],
            "image/png": "[encoded data removed]"
          },
          "metadata": {
            "needs_background": "light"
          }
        }
      ]
    },
    {
      "cell_type": "code",
      "source": [
        "df_X=df_recent_50[['Decade']]\n",
        "df_y=df_recent_50['Change from 1880']\n",
        "from sklearn.linear_model import LinearRegression\n",
        "lm = LinearRegression()            \n",
        "lm.fit(df_X.values, df_y)  \n",
        "print('線性迴歸的模型為 y = f(x) = mx +b')  \n",
        "print('m 為 ',lm.coef_)           \n",
        "print('b 為 ', lm.intercept_)\n"
      ],
      "metadata": {
        "colab": {
          "base_uri": "https://localhost:8080/"
        },
        "id": "_96tquVi46Tm",
        "outputId": "61691c3e-8ae6-4ccb-ed7d-238d9869878b"
      },
      "execution_count": 9,
      "outputs": [
        {
          "output_type": "stream",
          "name": "stdout",
          "text": [
            "線性迴歸的模型為 y = f(x) = mx +b\n",
            "m 為  [0.01643143]\n",
            "b 為  -32.087199999999996\n"
          ]
        }
      ]
    },
    {
      "cell_type": "code",
      "source": [
        "temp_2020=df_recent_50.iloc[5:6,1:2].values\n",
        "print(temp_2020)\n",
        "temp = [[2030]]        \n",
        "p = lm.predict(temp) \n",
        "print(p)\n",
        "print(\"預測2030年全球年均溫比2020年 升高: \",p-temp_2020 , \" °C\") "
      ],
      "metadata": {
        "colab": {
          "base_uri": "https://localhost:8080/"
        },
        "id": "t1VCmT1A49Bs",
        "outputId": "ad58c831-23bf-4e2f-b839-eb2fd197daa6"
      },
      "execution_count": 10,
      "outputs": [
        {
          "output_type": "stream",
          "name": "stdout",
          "text": [
            "[[1.037]]\n",
            "[1.2686]\n",
            "預測2030年全球年均溫比2020年 升高:  [[0.2316]]  °C\n"
          ]
        }
      ]
    },
    {
      "cell_type": "code",
      "source": [
        "y = [[2050]]        \n",
        "t = lm.predict(y) \n",
        "print(\"預測2050年全球年均溫比2020年 升高: \",t-temp_2020 , \" °C\") "
      ],
      "metadata": {
        "colab": {
          "base_uri": "https://localhost:8080/"
        },
        "id": "9tbVDtve4-0k",
        "outputId": "2c1d3e16-3728-45ea-82b3-f4902ebf5cd4"
      },
      "execution_count": 11,
      "outputs": [
        {
          "output_type": "stream",
          "name": "stdout",
          "text": [
            "預測2050年全球年均溫比2020年 升高:  [[0.56022857]]  °C\n"
          ]
        }
      ]
    },
    {
      "cell_type": "code",
      "source": [
        "df.to_csv('/content/MyGoogleDrive/My Drive/Colab Notebooks/Python_Data_Science/penguin08.csv',index=False)"
      ],
      "metadata": {
        "id": "-KoqfyQo5FOE"
      },
      "execution_count": 12,
      "outputs": []
    },
    {
      "cell_type": "code",
      "source": [
        "# exercise_02\n",
        "\n",
        "# read BMI data\n",
        "from google.colab import drive\n",
        "drive.mount('/content/MyGoogleDrive')\n",
        "import pandas as pd\n",
        "df=pd.read_csv('/content/MyGoogleDrive/My Drive/Colab Notebooks/Python-for-Titanic/Ch08/BMI-5_9.csv')\n",
        "print(df.info())\n",
        "print(df)"
      ],
      "metadata": {
        "colab": {
          "base_uri": "https://localhost:8080/"
        },
        "id": "ClDRmltI5HTe",
        "outputId": "c14c03f5-2c98-496f-cf53-ea1986ea7473"
      },
      "execution_count": 13,
      "outputs": [
        {
          "output_type": "stream",
          "name": "stdout",
          "text": [
            "Drive already mounted at /content/MyGoogleDrive; to attempt to forcibly remount, call drive.mount(\"/content/MyGoogleDrive\", force_remount=True).\n",
            "<class 'pandas.core.frame.DataFrame'>\n",
            "RangeIndex: 42 entries, 0 to 41\n",
            "Data columns (total 2 columns):\n",
            " #   Column    Non-Null Count  Dtype  \n",
            "---  ------    --------------  -----  \n",
            " 0   Period    42 non-null     int64  \n",
            " 1   Mean BMI  42 non-null     float64\n",
            "dtypes: float64(1), int64(1)\n",
            "memory usage: 800.0 bytes\n",
            "None\n",
            "    Period  Mean BMI\n",
            "0     1975     14.35\n",
            "1     1976     14.38\n",
            "2     1977     14.41\n",
            "3     1978     14.44\n",
            "4     1979     14.47\n",
            "5     1980     14.49\n",
            "6     1981     14.52\n",
            "7     1982     14.55\n",
            "8     1983     14.57\n",
            "9     1984     14.60\n",
            "10    1985     14.63\n",
            "11    1986     14.67\n",
            "12    1987     14.70\n",
            "13    1988     14.74\n",
            "14    1989     14.78\n",
            "15    1990     14.82\n",
            "16    1991     14.86\n",
            "17    1992     14.89\n",
            "18    1993     14.93\n",
            "19    1994     14.96\n",
            "20    1995     14.99\n",
            "21    1996     15.02\n",
            "22    1997     15.05\n",
            "23    1998     15.09\n",
            "24    1999     15.12\n",
            "25    2000     15.15\n",
            "26    2001     15.19\n",
            "27    2002     15.22\n",
            "28    2003     15.26\n",
            "29    2004     15.30\n",
            "30    2005     15.33\n",
            "31    2006     15.37\n",
            "32    2007     15.41\n",
            "33    2008     15.46\n",
            "34    2009     15.50\n",
            "35    2010     15.55\n",
            "36    2011     15.61\n",
            "37    2012     15.66\n",
            "38    2013     15.72\n",
            "39    2014     15.79\n",
            "40    2015     15.85\n",
            "41    2016     15.91\n"
          ]
        }
      ]
    },
    {
      "cell_type": "code",
      "source": [
        "df.plot(kind='scatter',x='Period',y='Mean BMI')"
      ],
      "metadata": {
        "colab": {
          "base_uri": "https://localhost:8080/",
          "height": 296
        },
        "id": "XI0L8UpN5PrL",
        "outputId": "d504b998-b213-4583-ade7-e5be163895a8"
      },
      "execution_count": 14,
      "outputs": [
        {
          "output_type": "execute_result",
          "data": {
            "text/plain": [
              "<matplotlib.axes._subplots.AxesSubplot at 0x7f6e372eed10>"
            ]
          },
          "metadata": {},
          "execution_count": 14
        },
        {
          "output_type": "display_data",
          "data": {
            "text/plain": [
              "<Figure size 432x288 with 1 Axes>"
            ],
            "image/png": "[encoded data removed]"
          },
          "metadata": {
            "needs_background": "light"
          }
        }
      ]
    },
    {
      "cell_type": "code",
      "source": [
        "df_X=df[['Period']]\n",
        "df_y=df['Mean BMI']\n",
        "\n",
        "from sklearn.linear_model import LinearRegression\n",
        "lm = LinearRegression()            \n",
        "lm.fit(df_X.values, df_y)  \n",
        "\n",
        "print('線性迴歸的模型為 y = f(x) = mx +b')  \n",
        "print('m 為 ',lm.coef_)           \n",
        "print('b 為 ', lm.intercept_)"
      ],
      "metadata": {
        "colab": {
          "base_uri": "https://localhost:8080/"
        },
        "id": "l-nAdlfc5TBf",
        "outputId": "2698ba20-a8e9-43db-b0c8-0f5f4071bf63"
      },
      "execution_count": 15,
      "outputs": [
        {
          "output_type": "stream",
          "name": "stdout",
          "text": [
            "線性迴歸的模型為 y = f(x) = mx +b\n",
            "m 為  [0.03636091]\n",
            "b 為  -57.52700699565135\n"
          ]
        }
      ]
    },
    {
      "cell_type": "code",
      "source": [
        "temp = [[2025]]        \n",
        "predict_BMI_2025 = lm.predict(temp) \n",
        "# print(predict_BMI_2025) \n",
        "\n",
        "# BMI_2000=df.iloc[25:26,1:2].values\n",
        "# print(BMI_2000)\n",
        "\n",
        "BMI_2000_value=df[df.Period==2000]['Mean BMI'].values\n",
        "# print(BMI_2000_value)\n",
        "\n",
        "height_m=1.25\n",
        "\n",
        "print(\"2025年相較2000年，以相同身高125cm的兒童而言，體重會增加: \",(predict_BMI_2025-BMI_2000_value)*height_m*height_m, \"公斤。\")\n",
        "\n",
        "temp = [[2030]]        \n",
        "predict_BMI_2030 = lm.predict(temp) \n",
        "print(\"2030年相較2000年，以相同身高125cm的兒童而言，體重會增加: \",(predict_BMI_2030-BMI_2000_value)*height_m*height_m, \"公斤。\")"
      ],
      "metadata": {
        "colab": {
          "base_uri": "https://localhost:8080/"
        },
        "id": "ZgNwWk_e5VtK",
        "outputId": "45070f46-b3bb-4805-aa2d-8582ee4cdef9"
      },
      "execution_count": 16,
      "outputs": [
        {
          "output_type": "stream",
          "name": "stdout",
          "text": [
            "2025年相較2000年，以相同身高125cm的兒童而言，體重會增加:  [1.49037085] 公斤。\n",
            "2030年相較2000年，以相同身高125cm的兒童而言，體重會增加:  [1.77444047] 公斤。\n"
          ]
        }
      ]
    },
    {
      "cell_type": "code",
      "source": [
        "df.to_csv('/content/MyGoogleDrive/My Drive/Colab Notebooks/Python_Data_Science/shoesize08.csv',index=False)"
      ],
      "metadata": {
        "id": "7dcTFtZt5hZW"
      },
      "execution_count": 17,
      "outputs": []
    }
  ]
}